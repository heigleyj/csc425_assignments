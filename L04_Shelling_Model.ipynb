{
  "nbformat": 4,
  "nbformat_minor": 0,
  "metadata": {
    "colab": {
      "name": "L04: Shelling Model.ipynb",
      "provenance": [],
      "include_colab_link": true
    },
    "kernelspec": {
      "name": "python3",
      "display_name": "Python 3"
    }
  },
  "cells": [
    {
      "cell_type": "markdown",
      "metadata": {
        "id": "view-in-github",
        "colab_type": "text"
      },
      "source": [
        "<a href=\"https://colab.research.google.com/github/heigleyj/csc425_assignments/blob/master/L04_Shelling_Model.ipynb\" target=\"_parent\"><img src=\"https://colab.research.google.com/assets/colab-badge.svg\" alt=\"Open In Colab\"/></a>"
      ]
    },
    {
      "cell_type": "markdown",
      "metadata": {
        "id": "Ws6rXa1xv_gv"
      },
      "source": [
        "# [L04: Implementing the Shelling Model](https://docs.google.com/document/d/1NtGAKnsfwLRYMYrL74aMVMtTuQRJ1oDjvSFWlmMjpzs/edit?usp=sharing)\n",
        "Written by Dr. Jan Pearce, Berea College\n",
        "\n",
        "Complete the code by meeting all linked requirements and fixing all FIXMEs\n",
        "\n",
        "## Your Name: Josh Heigley"
      ]
    },
    {
      "cell_type": "markdown",
      "metadata": {
        "id": "PvEpt0HPKq9X"
      },
      "source": [
        "**SUMMARY**: A brief summary description of the design and implementation, including how much your initial design plan evolved, the final result you achieved and the amount of time you spent as a programmer or programmers in accomplishing these results. This should be no more than two paragraphs.\n",
        "\n",
        "FIXME\n",
        "\n",
        "**PERSONNEL**: A description of who you worked with and on what sections.  It is expected that all collaboration is done as pair programming together. Also, note these collaborations in the code section itself.\n",
        "\n",
        "FIXME\n",
        "\n",
        "**CHALLENGES**: Descriptions of the largest challenges you overcame and what made them challenging.\n",
        "\n",
        "FIXME\n",
        "\n",
        "**INNOVATIONS**: Any innovations that were not specifically required by the assignment. These are not required, but should be highlighted if included.\n",
        "\n",
        "FIXME\n",
        "\n",
        "**TESTING**: Describe how you tested this work.\n",
        "\n",
        "FIXME\n",
        "\n",
        "**ERRORS**: A list in bulleted form of all known errors and deficiencies.\n",
        "\n",
        "FIXME\n",
        "\n",
        "**COMMENTS**: A paragraph or so of your own comments on and reactions to the Lab.\n",
        "\n",
        "FIXME"
      ]
    },
    {
      "cell_type": "markdown",
      "metadata": {
        "id": "lRXe-Atyv30H"
      },
      "source": [
        "## Import Libraries"
      ]
    },
    {
      "cell_type": "code",
      "metadata": {
        "id": "b6koAGG2mhix"
      },
      "source": [
        "import networkx as nx\n",
        "import matplotlib.pyplot as plt\n",
        "import math\n",
        "from urllib.request import urlopen\n",
        "import random"
      ],
      "execution_count": 13,
      "outputs": []
    },
    {
      "cell_type": "markdown",
      "metadata": {
        "id": "qGcB5022KlHL"
      },
      "source": [
        "## The Schelling Model"
      ]
    },
    {
      "cell_type": "code",
      "metadata": {
        "id": "KIzVOICElISX",
        "colab": {
          "base_uri": "https://localhost:8080/"
        },
        "outputId": "bf575117-bf99-496c-b479-d4aa832ced1d"
      },
      "source": [
        "\"\"\"\n",
        "A 2D cellular automaton that simulates the progression of segregation based on a threshold of how many neighbors need to be like a certain cell for them to be happy and not move\n",
        "\"\"\"\n",
        "class Schelling():\n",
        "  def __init__(self, red_proportion, blue_proportion, grid_size, threshold):\n",
        "    self.red_proportion = red_proportion\n",
        "    self.blue_proportion = blue_proportion\n",
        "    self.grid_size = grid_size\n",
        "    self.threshold = threshold\n",
        "    self.grid = self.create_grid()\n",
        "\n",
        "  def create_grid(self):\n",
        "    \"\"\"\n",
        "    Initializes and then populates the grid that represents the world for this 2D CA\n",
        "    \"\"\"\n",
        "    grid = [[None for i in range(self.grid_size)] for j in range(self.grid_size)]\n",
        "    #print('\\n'.join(str(row) for row in grid))\n",
        "\n",
        "    for row in range(self.grid_size):\n",
        "      for column in range(self.grid_size):\n",
        "        grid[row][column] = self.determine_cell()\n",
        "\n",
        "    print('\\n'.join(str(row) for row in grid))\n",
        "    return grid\n",
        "\n",
        "  def determine_cell(self):\n",
        "    \"\"\"\n",
        "    Uses the random method to determine a value between 0-1 and then uses the proportions given to assign the color of the cell\n",
        "    \"\"\"\n",
        "    outcome = random.random()\n",
        "    cell = None\n",
        "\n",
        "    if outcome <= self.red_proportion:\n",
        "      cell = 'red'\n",
        "    elif outcome <= self.red_proportion + self.blue_proportion:\n",
        "      cell = 'blue'\n",
        "\n",
        "    return cell\n",
        "\n",
        "  def is_happy(self, row, column):\n",
        "    \"\"\"\n",
        "    Determines if a given cell is happy based on the given threshold\n",
        "    \"\"\"\n",
        "    similar_neighbors = 0\n",
        "    total_neighbors = 0\n",
        "    offsets = []\n",
        "\n",
        "    if not self.grid[row][column]:\n",
        "      print(\"Cell is empty\")\n",
        "      return None\n",
        "\n",
        "    # Add offsts for neighbors above the cell\n",
        "    if row > 0:\n",
        "      offsets.append([-1,0])\n",
        "      if column > 0:\n",
        "        offsets.append([-1,-1])\n",
        "      if column < self.grid_size - 1:\n",
        "        offsets.append([-1,1])\n",
        "\n",
        "    # Add offsets for neighbors beside the cell\n",
        "    if column > 0:\n",
        "      offsets.append([0,-1])\n",
        "    if column < self.grid_size - 1:\n",
        "      offsets.append([0,1])\n",
        "\n",
        "    # Add offsets for neighbors below the cell\n",
        "    if row < self.grid_size - 1:\n",
        "      offsets.append([1,0])\n",
        "      if column > 0:\n",
        "        offsets.append([1,-1])\n",
        "      if column < self.grid_size -1:\n",
        "        offsets.append([1,1])\n",
        "\n",
        "    # Tally up all neighbors and similar neighbors\n",
        "    for vertical, horizontal in offsets:\n",
        "      if self.grid[row + vertical][column + horizontal] == self.grid[row][column]:\n",
        "        similar_neighbors += 1\n",
        "\n",
        "      total_neighbors += 1\n",
        "\n",
        "    print(offsets)\n",
        "\n",
        "    return similar_neighbors/total_neighbors >= self.threshold\n",
        "\n",
        "\n",
        "def main():\n",
        "    seg_model = Schelling(0.4, 0.4, 10, 0.4)\n",
        "    print(seg_model.is_happy(0,3))\n",
        "\n",
        "main()"
      ],
      "execution_count": 28,
      "outputs": [
        {
          "output_type": "stream",
          "name": "stdout",
          "text": [
            "[None, 'red', 'red', 'blue', 'blue', 'red', None, 'blue', None, 'blue']\n",
            "['blue', 'red', 'blue', 'blue', None, 'blue', 'blue', None, 'blue', 'blue']\n",
            "['blue', 'red', 'red', 'red', 'blue', None, 'red', None, 'red', 'blue']\n",
            "['red', 'blue', 'red', 'blue', 'blue', 'blue', 'red', 'blue', 'blue', 'blue']\n",
            "['blue', 'blue', 'red', None, 'blue', 'blue', 'red', 'blue', 'blue', None]\n",
            "['red', 'red', 'blue', 'blue', 'red', 'red', 'red', 'blue', 'red', 'red']\n",
            "['blue', 'blue', 'red', 'red', 'red', 'blue', 'blue', 'red', 'blue', 'red']\n",
            "[None, None, None, None, None, 'blue', 'red', 'blue', 'red', 'blue']\n",
            "['red', 'red', 'red', 'red', 'red', None, 'red', 'red', None, 'blue']\n",
            "['blue', None, 'red', 'blue', 'blue', None, None, None, 'blue', 'red']\n",
            "[[0, -1], [0, 1], [1, 0], [1, -1], [1, 1]]\n",
            "True\n"
          ]
        }
      ]
    },
    {
      "cell_type": "markdown",
      "metadata": {
        "id": "-6HarsXemeKP"
      },
      "source": []
    },
    {
      "cell_type": "markdown",
      "metadata": {
        "id": "hix-ipzHHnxp"
      },
      "source": []
    },
    {
      "cell_type": "markdown",
      "metadata": {
        "id": "zVTdKeGVH0Im"
      },
      "source": [
        "## Integrity statement\n",
        "\n",
        "Please briefly describe all references you used, all help you received and all help you gave to others in completing this assignment. Be sure to say that you got no help if you got none.\n",
        "\n",
        "FIXME"
      ]
    }
  ]
}